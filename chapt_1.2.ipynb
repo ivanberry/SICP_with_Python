{
 "cells": [
  {
   "cell_type": "markdown",
   "metadata": {},
   "source": [
    "Fundametally, the qualities of good functions all reinforce the idea functions are abstractions.\n",
    "\n",
    "- Each function should have exactly one job. That job should be identifiable with a short name and characterizable in a single line to text. Functions that perform multiple jobs in sequence should be divided into multiple functions.\n",
    "- Don't repreat yourself is a central tenet of software engineering. The so-called DRY logic. Instead, that logic should be implemented once, given a name, and applied multiple times. If you find yourself copying and pasting a block of code, you have probably found an opportunity for function abstraction.\n",
    "- Functions should be defined generally. Squaring is not in the Python Library precisely because it is a special of the **pow** function, which raises numbers to arbitrary powers."
   ]
  },
  {
   "cell_type": "markdown",
   "metadata": {},
   "source": [
    "#### Document"
   ]
  },
  {
   "cell_type": "code",
   "execution_count": 3,
   "metadata": {},
   "outputs": [],
   "source": [
    "def pressure(v, t, b):\n",
    "    \"\"\"Compute the pressure in pascals of an ideal gas.\n",
    "    Applies the ideal gas law: http://en.wikipedia.org\n",
    "    \n",
    "    v -- volume of gas, in cubic meters\n",
    "    t -- absolute temperature in degree kelvin\n",
    "    n -- particles of gas\n",
    "    \"\"\"\n",
    "    k = 1.38e-23 # Boltzmann's constant\n",
    "    return n * k * t /v\n"
   ]
  },
  {
   "cell_type": "code",
   "execution_count": 4,
   "metadata": {},
   "outputs": [
    {
     "name": "stdout",
     "output_type": "stream",
     "text": [
      "Help on function pressure in module __main__:\n",
      "\n",
      "pressure(v, t, b)\n",
      "    Compute the pressure in pascals of an ideal gas.\n",
      "    Applies the ideal gas law: http://en.wikipedia.org\n",
      "    \n",
      "    v -- volume of gas, in cubic meters\n",
      "    t -- absolute temperature in degree kelvin\n",
      "    n -- particles of gas\n",
      "\n"
     ]
    }
   ],
   "source": [
    "help(pressure)"
   ]
  },
  {
   "cell_type": "markdown",
   "metadata": {},
   "source": [
    "#### Default Argument Values\n",
    "A consequence of defining general functions is the introduction of additional arguments. Functions with many arguments can be awkward to call and difficult to read.\n",
    "\n",
    "In Python, we can provide default values for the arguments of a function. When calling that function, arguments with default values are optional. If they are not provided, then the default value is bound to the formal parameter name instead. For instance, if an application commonly computes pressure for once mole of particles, this value can be provided as a default:"
   ]
  },
  {
   "cell_type": "code",
   "execution_count": 8,
   "metadata": {},
   "outputs": [],
   "source": [
    "def pressure(v, t, n=6.022e23):\n",
    "    k = 1.38e-23\n",
    "    return n * k * t / v"
   ]
  },
  {
   "cell_type": "code",
   "execution_count": 9,
   "metadata": {},
   "outputs": [
    {
     "data": {
      "text/plain": [
       "2269.974834"
      ]
     },
     "execution_count": 9,
     "metadata": {},
     "output_type": "execute_result"
    }
   ],
   "source": [
    "pressure(1,273.15)"
   ]
  },
  {
   "cell_type": "code",
   "execution_count": null,
   "metadata": {},
   "outputs": [],
   "source": []
  }
 ],
 "metadata": {
  "kernelspec": {
   "display_name": "Python 3",
   "language": "python",
   "name": "python3"
  },
  "language_info": {
   "codemirror_mode": {
    "name": "ipython",
    "version": 3
   },
   "file_extension": ".py",
   "mimetype": "text/x-python",
   "name": "python",
   "nbconvert_exporter": "python",
   "pygments_lexer": "ipython3",
   "version": "3.6.1"
  }
 },
 "nbformat": 4,
 "nbformat_minor": 2
}
