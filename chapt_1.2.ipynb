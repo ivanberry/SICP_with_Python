{
 "cells": [
  {
   "cell_type": "markdown",
   "metadata": {},
   "source": [
    "Fundametally, the qualities of good functions all reinforce the idea functions are abstractions.\n",
    "\n",
    "- Each function should have exactly one job. That job should be identifiable with a short name and characterizable in a single line to text. Functions that perform multiple jobs in sequence should be divided into multiple functions.\n",
    "- Don't repreat yourself is a central tenet of software engineering. The so-called DRY logic. Instead, that logic should be implemented once, given a name, and applied multiple times. If you find yourself copying and pasting a block of code, you have probably found an opportunity for function abstraction.\n",
    "- Functions should be defined generally. Squaring is not in the Python Library precisely because it is a special of the **pow** function, which raises numbers to arbitrary powers."
   ]
  },
  {
   "cell_type": "markdown",
   "metadata": {},
   "source": [
    "#### Document"
   ]
  },
  {
   "cell_type": "code",
   "execution_count": 3,
   "metadata": {},
   "outputs": [],
   "source": [
    "def pressure(v, t, b):\n",
    "    \"\"\"Compute the pressure in pascals of an ideal gas.\n",
    "    Applies the ideal gas law: http://en.wikipedia.org\n",
    "    \n",
    "    v -- volume of gas, in cubic meters\n",
    "    t -- absolute temperature in degree kelvin\n",
    "    n -- particles of gas\n",
    "    \"\"\"\n",
    "    k = 1.38e-23 # Boltzmann's constant\n",
    "    return n * k * t /v\n"
   ]
  },
  {
   "cell_type": "code",
   "execution_count": 4,
   "metadata": {},
   "outputs": [
    {
     "name": "stdout",
     "output_type": "stream",
     "text": [
      "Help on function pressure in module __main__:\n",
      "\n",
      "pressure(v, t, b)\n",
      "    Compute the pressure in pascals of an ideal gas.\n",
      "    Applies the ideal gas law: http://en.wikipedia.org\n",
      "    \n",
      "    v -- volume of gas, in cubic meters\n",
      "    t -- absolute temperature in degree kelvin\n",
      "    n -- particles of gas\n",
      "\n"
     ]
    }
   ],
   "source": [
    "help(pressure)"
   ]
  },
  {
   "cell_type": "markdown",
   "metadata": {},
   "source": [
    "#### Default Argument Values\n",
    "A consequence of defining general functions is the introduction of additional arguments. Functions with many arguments can be awkward to call and difficult to read.\n",
    "\n",
    "In Python, we can provide default values for the arguments of a function. When calling that function, arguments with default values are optional. If they are not provided, then the default value is bound to the formal parameter name instead. For instance, if an application commonly computes pressure for once mole of particles, this value can be provided as a default:"
   ]
  },
  {
   "cell_type": "code",
   "execution_count": 8,
   "metadata": {},
   "outputs": [],
   "source": [
    "def pressure(v, t, n=6.022e23):\n",
    "    k = 1.38e-23\n",
    "    return n * k * t / v"
   ]
  },
  {
   "cell_type": "code",
   "execution_count": 9,
   "metadata": {},
   "outputs": [
    {
     "data": {
      "text/plain": [
       "2269.974834"
      ]
     },
     "execution_count": 9,
     "metadata": {},
     "output_type": "execute_result"
    }
   ],
   "source": [
    "pressure(1,273.15)"
   ]
  },
  {
   "cell_type": "markdown",
   "metadata": {},
   "source": [
    "### Currying\n",
    "We can use higher-order-functions to convert a function that takes multiple arguments into a chain of functions that each take a single argument. More specifically, given a function **f(x,y)**, we can define a function *g* such that **g(x)(y)** is equivalent to **f(x,Y)**. Here *g* is a higher-order-function that takes in a single argument **x** and returns another function that takes in a single argument **y**. This transformation is called *currying*.\n",
    "\n",
    "Below, we can defined a curried version of the **pow** function:\n"
   ]
  },
  {
   "cell_type": "code",
   "execution_count": 1,
   "metadata": {},
   "outputs": [],
   "source": [
    "def curried_pow(x):\n",
    "    def h(y):\n",
    "        return pow(x,y)\n",
    "    return h"
   ]
  },
  {
   "cell_type": "code",
   "execution_count": 2,
   "metadata": {},
   "outputs": [
    {
     "data": {
      "text/plain": [
       "8"
      ]
     },
     "execution_count": 2,
     "metadata": {},
     "output_type": "execute_result"
    }
   ],
   "source": [
    "curried_pow(2)(3)"
   ]
  },
  {
   "cell_type": "markdown",
   "metadata": {},
   "source": [
    "Currying is useful when we require a function that takes in only a single argument. For example, the *map* pattern applies a single argument function to sequence of values. \n",
    "\n",
    "In the above examples, we manually performed the currying transformation on the **pow** function to obtain **curried_pow**. Instead, we can define functions to automate currying, as well as the inverse *uncurrying transformation*:"
   ]
  },
  {
   "cell_type": "code",
   "execution_count": 3,
   "metadata": {},
   "outputs": [],
   "source": [
    "def curry2(f):\n",
    "    \"\"\"Return a curried version of the given two-argument function.\"\"\"\n",
    "    def g(x):\n",
    "        def h(y):\n",
    "            return f(x,y)\n",
    "        return h\n",
    "    return g\n",
    "\n",
    "def uncurry2(g):\n",
    "    \"\"\"Return a two-argument version of the given curried function\"\"\"\n",
    "    def f(x, y):\n",
    "        return g(x)(y)\n",
    "    return f"
   ]
  },
  {
   "cell_type": "code",
   "execution_count": 4,
   "metadata": {},
   "outputs": [
    {
     "data": {
      "text/plain": [
       "8"
      ]
     },
     "execution_count": 4,
     "metadata": {},
     "output_type": "execute_result"
    }
   ],
   "source": [
    "pow_curried = curry2(pow)\n",
    "pow_curried(2)(3)"
   ]
  },
  {
   "cell_type": "code",
   "execution_count": 5,
   "metadata": {},
   "outputs": [
    {
     "data": {
      "text/plain": [
       "32"
      ]
     },
     "execution_count": 5,
     "metadata": {},
     "output_type": "execute_result"
    }
   ],
   "source": [
    "pow_curried(2)(5)"
   ]
  },
  {
   "cell_type": "markdown",
   "metadata": {},
   "source": [
    "### Lambda Expressions\n",
    "\n",
    "In the Python, we can create function values on the fly using **lambda** expressions, which evaluate to unamed funtions. A lambda expression evaluates to a function that has a single return expression as its body. Assignment and control statement are not allowed."
   ]
  },
  {
   "cell_type": "code",
   "execution_count": 6,
   "metadata": {},
   "outputs": [],
   "source": [
    "def compose(f,g):\n",
    "    return lambda x: f(g(x))"
   ]
  },
  {
   "attachments": {
    "image.png": {
     "image/png": "[encoded data removed]"
    }
   },
   "cell_type": "markdown",
   "metadata": {},
   "source": [
    "![image.png](attachment:image.png)"
   ]
  },
  {
   "cell_type": "markdown",
   "metadata": {},
   "source": [
    "In a environment diagram, the result of a lambda expression is a function as well, named with the geek letter."
   ]
  },
  {
   "cell_type": "markdown",
   "metadata": {},
   "source": [
    "### Abstractions and First-Class Functions\n",
    "In general, programming languages impose restrictions on the ways in which computational elements can be manipulated. Elements with the fewest restrictions are said to have first-class status. Some of the \"rights and privileges\" of the first-class elements are:\n",
    "\n",
    "1. They may be bound to names\n",
    "2. They may be passed as arguments to functions\n",
    "3. They may be returned as the results of functions\n",
    "4. They may be included in data structures"
   ]
  },
  {
   "cell_type": "markdown",
   "metadata": {},
   "source": [
    "### Function Decorators\n",
    "Python provides special syntax to apply higher-order functions as part of executing a **def** statement, called a decorator. Perhaps the most common example is a trace:"
   ]
  },
  {
   "cell_type": "code",
   "execution_count": 8,
   "metadata": {},
   "outputs": [],
   "source": [
    "def trace(fn):\n",
    "    def wrapped(x):\n",
    "        print('-->', fn, '(', x, ')')\n",
    "        return fn(x)\n",
    "    return wrapped"
   ]
  },
  {
   "cell_type": "code",
   "execution_count": 9,
   "metadata": {},
   "outputs": [],
   "source": [
    "@trace\n",
    "def triple(x):\n",
    "    return 3 * x"
   ]
  },
  {
   "cell_type": "code",
   "execution_count": 10,
   "metadata": {},
   "outputs": [
    {
     "name": "stdout",
     "output_type": "stream",
     "text": [
      "--> <function triple at 0x10e0c8a60> ( 12 )\n"
     ]
    },
    {
     "data": {
      "text/plain": [
       "36"
      ]
     },
     "execution_count": 10,
     "metadata": {},
     "output_type": "execute_result"
    }
   ],
   "source": [
    "triple(12)"
   ]
  },
  {
   "cell_type": "markdown",
   "metadata": {},
   "source": [
    "This decorator is equivalent to:"
   ]
  },
  {
   "cell_type": "code",
   "execution_count": 11,
   "metadata": {},
   "outputs": [],
   "source": [
    "def triple(x):\n",
    "    return 3 * x\n",
    "\n",
    "triple = trace(triple)"
   ]
  },
  {
   "cell_type": "code",
   "execution_count": null,
   "metadata": {},
   "outputs": [],
   "source": []
  }
 ],
 "metadata": {
  "kernelspec": {
   "display_name": "Python 3",
   "language": "python",
   "name": "python3"
  },
  "language_info": {
   "codemirror_mode": {
    "name": "ipython",
    "version": 3
   },
   "file_extension": ".py",
   "mimetype": "text/x-python",
   "name": "python",
   "nbconvert_exporter": "python",
   "pygments_lexer": "ipython3",
   "version": "3.6.1"
  }
 },
 "nbformat": 4,
 "nbformat_minor": 2
}
